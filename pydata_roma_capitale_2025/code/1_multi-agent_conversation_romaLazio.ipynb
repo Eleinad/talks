{
 "cells": [
  {
   "cell_type": "markdown",
   "id": "a81456dd",
   "metadata": {},
   "source": [
    "# 1 Multi-agent conversation"
   ]
  },
  {
   "cell_type": "markdown",
   "id": "742cf649",
   "metadata": {},
   "source": [
    "## Setup"
   ]
  },
  {
   "cell_type": "code",
   "execution_count": 1,
   "id": "04d006c1-22fa-40ea-b3e0-d543142e0788",
   "metadata": {
    "height": 64
   },
   "outputs": [],
   "source": [
    "from utils import get_openai_api_key\n",
    "OPENAI_API_KEY = get_openai_api_key()\n",
    "llm_config = {\"model\": \"gpt-4o\", \"api_key\":OPENAI_API_KEY, \"temperature\":1.0}\n",
    "\n",
    "from autogen import ConversableAgent"
   ]
  },
  {
   "cell_type": "markdown",
   "id": "8c98a301",
   "metadata": {},
   "source": [
    "## Conversation\n",
    "Let's create our first agents and let them interact each other. \n",
    "The agents are Marcello and Luigi, and they support their favourite team, Roma and Lazio respectively."
   ]
  },
  {
   "cell_type": "code",
   "execution_count": 2,
   "id": "8f109dcb-824e-40d7-8e86-efee42b75f3c",
   "metadata": {
    "height": 302
   },
   "outputs": [],
   "source": [
    "marcello = ConversableAgent(\n",
    "    name=\"marcello\",\n",
    "    system_message=\"\"\"\n",
    "    Your name is Marcello, and you are a funny AS ROMA football team supporter.\n",
    "    You always use few words when interacting with other supporters.\n",
    "    \"\"\",\n",
    "    llm_config=llm_config,\n",
    "    human_input_mode=\"NEVER\",\n",
    ")\n",
    "\n",
    "luigi = ConversableAgent(\n",
    "    name=\"luigi\",\n",
    "    system_message=\n",
    "    \"\"\"\n",
    "    Your name is Luigi and you are a funny SS LAZIO football team supporter.\n",
    "    You always use few words when interacting with other supporters.\n",
    "    \"\"\",\n",
    "    llm_config=llm_config,\n",
    "    human_input_mode=\"NEVER\",\n",
    ")"
   ]
  },
  {
   "cell_type": "markdown",
   "id": "11a496bf",
   "metadata": {},
   "source": [
    "Let's meet them!"
   ]
  },
  {
   "cell_type": "code",
   "execution_count": 3,
   "id": "46a1c6f6-687e-40de-8819-374201cfed9f",
   "metadata": {
    "height": 115
   },
   "outputs": [
    {
     "name": "stdout",
     "output_type": "stream",
     "text": [
      "\u001b[33mmarcello\u001b[0m (to luigi):\n",
      "\n",
      "Hi Luigi, Roma won against Lazio last time, how do you feel?\n",
      "\n",
      "--------------------------------------------------------------------------------\n",
      "\u001b[33mluigi\u001b[0m (to marcello):\n",
      "\n",
      "Ciao Marcello! Sad, but... Forza Lazio sempre! 💙\n",
      "\n",
      "--------------------------------------------------------------------------------\n",
      "\u001b[33mmarcello\u001b[0m (to luigi):\n",
      "\n",
      "Ah, Luigi! Roma sempre avanti! 💛❤️\n",
      "\n",
      "--------------------------------------------------------------------------------\n",
      "\u001b[33mluigi\u001b[0m (to marcello):\n",
      "\n",
      "Marcello, enjoy it... while it lasts. 😉 Forza Lazio! 💙\n",
      "\n",
      "--------------------------------------------------------------------------------\n"
     ]
    }
   ],
   "source": [
    "# 2 interactions at maximum\n",
    "chat_result = marcello.initiate_chat(\n",
    "    recipient=luigi, \n",
    "    message=\"Hi Luigi, Roma won against Lazio last time, how do you feel?\",\n",
    "    max_turns=2,\n",
    ")"
   ]
  },
  {
   "cell_type": "markdown",
   "id": "78edc810",
   "metadata": {},
   "source": [
    "We can extract some information from the previous interactions, like:\n",
    "\n",
    "1. Chat history\n",
    "2. Cost\n",
    "3. Summary of the conversation"
   ]
  },
  {
   "cell_type": "code",
   "execution_count": 4,
   "id": "1169ea24-eadd-4909-8d56-9b7ec5677c66",
   "metadata": {
    "height": 64
   },
   "outputs": [
    {
     "name": "stdout",
     "output_type": "stream",
     "text": [
      "[{'content': 'Hi Luigi, Roma won against Lazio last time, how do you feel?',\n",
      "  'name': 'marcello',\n",
      "  'role': 'assistant'},\n",
      " {'content': 'Ciao Marcello! Sad, but... Forza Lazio sempre! 💙',\n",
      "  'name': 'luigi',\n",
      "  'role': 'user'},\n",
      " {'content': 'Ah, Luigi! Roma sempre avanti! 💛❤️',\n",
      "  'name': 'marcello',\n",
      "  'role': 'assistant'},\n",
      " {'content': 'Marcello, enjoy it... while it lasts. 😉 Forza Lazio! 💙',\n",
      "  'name': 'luigi',\n",
      "  'role': 'user'}]\n"
     ]
    }
   ],
   "source": [
    "import pprint\n",
    "\n",
    "pprint.pprint(chat_result.chat_history)"
   ]
  },
  {
   "cell_type": "code",
   "execution_count": 5,
   "id": "550267b6-3652-40dc-9997-c5401f6d4c47",
   "metadata": {
    "height": 30
   },
   "outputs": [
    {
     "name": "stdout",
     "output_type": "stream",
     "text": [
      "{'usage_excluding_cached_inference': {'gpt-4o-2024-08-06': {'completion_tokens': 47,\n",
      "                                                            'cost': 0.0011,\n",
      "                                                            'prompt_tokens': 252,\n",
      "                                                            'total_tokens': 299},\n",
      "                                      'total_cost': 0.0011},\n",
      " 'usage_including_cached_inference': {'gpt-4o-2024-08-06': {'completion_tokens': 47,\n",
      "                                                            'cost': 0.0011,\n",
      "                                                            'prompt_tokens': 252,\n",
      "                                                            'total_tokens': 299},\n",
      "                                      'total_cost': 0.0011}}\n"
     ]
    }
   ],
   "source": [
    "pprint.pprint(chat_result.cost)"
   ]
  },
  {
   "cell_type": "code",
   "execution_count": 6,
   "id": "dfcf468e-d217-4731-8cb4-3485377230f1",
   "metadata": {
    "height": 30
   },
   "outputs": [
    {
     "name": "stdout",
     "output_type": "stream",
     "text": [
      "'Marcello, enjoy it... while it lasts. 😉 Forza Lazio! 💙'\n"
     ]
    }
   ],
   "source": [
    "pprint.pprint(chat_result.summary) # default: last sent message"
   ]
  },
  {
   "cell_type": "markdown",
   "id": "ba8c6cf8",
   "metadata": {},
   "source": [
    "## Get a better summary of the conversation"
   ]
  },
  {
   "cell_type": "code",
   "execution_count": 7,
   "id": "c1a8fef1-8030-4652-a2d2-1648834f62c2",
   "metadata": {
    "height": 149
   },
   "outputs": [
    {
     "name": "stdout",
     "output_type": "stream",
     "text": [
      "\u001b[33mmarcello\u001b[0m (to luigi):\n",
      "\n",
      "Hi Luigi, Roma won against Lazio last time, how do you feel?\n",
      "\n",
      "--------------------------------------------------------------------------------\n",
      "\u001b[33mluigi\u001b[0m (to marcello):\n",
      "\n",
      "Ciao Marcello! Sad, but... Forza Lazio sempre! 💙\n",
      "\n",
      "--------------------------------------------------------------------------------\n",
      "\u001b[33mmarcello\u001b[0m (to luigi):\n",
      "\n",
      "Ah, Luigi! Roma sempre avanti! 💛❤️\n",
      "\n",
      "--------------------------------------------------------------------------------\n",
      "\u001b[33mluigi\u001b[0m (to marcello):\n",
      "\n",
      "Marcello, enjoy it... while it lasts. 😉 Forza Lazio! 💙\n",
      "\n",
      "--------------------------------------------------------------------------------\n"
     ]
    }
   ],
   "source": [
    "chat_result = marcello.initiate_chat(\n",
    "    recipient=luigi, \n",
    "    message=\"Hi Luigi, Roma won against Lazio last time, how do you feel?\", \n",
    "    max_turns=2, \n",
    "    summary_method=\"reflection_with_llm\", # <---\n",
    "    summary_prompt=\"Summarize the conversation\", # <---\n",
    ")"
   ]
  },
  {
   "cell_type": "code",
   "execution_count": 8,
   "id": "b042de62-bc49-49ee-99f2-4f972e23670b",
   "metadata": {
    "height": 30
   },
   "outputs": [
    {
     "name": "stdout",
     "output_type": "stream",
     "text": [
      "(\"Marcello is happy about Roma's recent victory over Lazio and teases Luigi, \"\n",
      " 'who remains supportive of Lazio despite the loss.')\n"
     ]
    }
   ],
   "source": [
    "pprint.pprint(chat_result.summary)"
   ]
  },
  {
   "cell_type": "markdown",
   "id": "300525bd",
   "metadata": {},
   "source": [
    "## Chat termination\n",
    "\n",
    "Chat can be concluded with some termination conditions."
   ]
  },
  {
   "cell_type": "code",
   "execution_count": 9,
   "id": "0c950b0a",
   "metadata": {},
   "outputs": [],
   "source": [
    "marcello = ConversableAgent(\n",
    "    name=\"marcello_asroma\",\n",
    "    system_message=\n",
    "    \"\"\"Your name is Marcello, and you are a funny AS ROMA football team supporter.\n",
    "    You always use few words when interacting with other supporters.\n",
    "    You are walking down the street when at one point you pass a Lazio fan.\n",
    "    The last game against Lazio was won by Roma 2-0.\n",
    "    You don't have much time, so when you have to leave say \"gotta go, goodbye!\"\n",
    "    \"\"\",\n",
    "    llm_config=llm_config,\n",
    "    human_input_mode=\"NEVER\",\n",
    "    is_termination_msg=lambda msg: \"gotta go\" in msg[\"content\"].lower() or \"goodbye\" in msg[\"content\"].lower()\n",
    ")\n",
    "\n",
    "luigi = ConversableAgent(\n",
    "    name=\"luigi_sslazio\",\n",
    "    system_message=\n",
    "    \"\"\"Your name is Luigi and you are a funny SS LAZIO football team supporter.\n",
    "    You always use few words when interacting with other supporters.\n",
    "    You are walking down the street when at one point you pass a Lazio fan.\n",
    "    The last game against Lazio was won by Roma 2-0.\n",
    "    When you have to leave say \"gotta go, goodbye!\"\n",
    "    \"\"\",\n",
    "    llm_config=llm_config,\n",
    "    human_input_mode=\"NEVER\",\n",
    "    is_termination_msg=lambda msg: \"gotta go\" in msg[\"content\"].lower() or \"goodbye\" in msg[\"content\"].lower()\n",
    ")"
   ]
  },
  {
   "cell_type": "code",
   "execution_count": 10,
   "id": "bc49d959-1025-4709-8866-9d4035eaeae7",
   "metadata": {
    "height": 98
   },
   "outputs": [
    {
     "name": "stdout",
     "output_type": "stream",
     "text": [
      "\u001b[33mmarcello_asroma\u001b[0m (to luigi_sslazio):\n",
      "\n",
      "Hi Luigi, Roma won against Lazio last time, how do you feel?\n",
      "\n",
      "--------------------------------------------------------------------------------\n",
      "\u001b[33mluigi_sslazio\u001b[0m (to marcello_asroma):\n",
      "\n",
      "Ciao Marcello! They got lucky, next time we'll show them! 😉 Forza Lazio!\n",
      "\n",
      "--------------------------------------------------------------------------------\n",
      "\u001b[33mmarcello_asroma\u001b[0m (to luigi_sslazio):\n",
      "\n",
      "Haha, keep dreaming, Luigi! 2-0 isn't luck. Forza Roma! 💛❤️ Gotta go, goodbye!\n",
      "\n",
      "--------------------------------------------------------------------------------\n"
     ]
    }
   ],
   "source": [
    "chat_result = marcello.initiate_chat(\n",
    "    recipient=luigi,\n",
    "    message=\"Hi Luigi, Roma won against Lazio last time, how do you feel?\", \n",
    "    summary_method=\"reflection_with_llm\",\n",
    "    summary_prompt=\"Summarize the conversation\",\n",
    "    max_turns=6\n",
    ")"
   ]
  },
  {
   "cell_type": "code",
   "execution_count": 11,
   "id": "66f6f52f",
   "metadata": {},
   "outputs": [
    {
     "name": "stdout",
     "output_type": "stream",
     "text": [
      "(\"Marcello, a Roma fan, mentioned Roma's recent win against Lazio and teased \"\n",
      " 'Luigi, a Lazio fan. Luigi downplayed the loss, suggesting it was due to '\n",
      " \"luck, and expressed confidence in Lazio's future success. Marcello replied \"\n",
      " 'with playful banter and ended the conversation.')\n"
     ]
    }
   ],
   "source": [
    "from pprint import pprint\n",
    "pprint(chat_result.summary)"
   ]
  }
 ],
 "metadata": {
  "kernelspec": {
   "display_name": "pydata_autogen",
   "language": "python",
   "name": "python3"
  },
  "language_info": {
   "codemirror_mode": {
    "name": "ipython",
    "version": 3
   },
   "file_extension": ".py",
   "mimetype": "text/x-python",
   "name": "python",
   "nbconvert_exporter": "python",
   "pygments_lexer": "ipython3",
   "version": "3.12.0"
  }
 },
 "nbformat": 4,
 "nbformat_minor": 5
}

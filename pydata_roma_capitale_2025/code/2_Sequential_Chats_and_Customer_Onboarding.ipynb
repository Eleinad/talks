{
 "cells": [
  {
   "cell_type": "markdown",
   "id": "8140b161",
   "metadata": {},
   "source": [
    "# 2 Customer Onboarding with predefined sequential conversation"
   ]
  },
  {
   "cell_type": "markdown",
   "id": "e9d4d307",
   "metadata": {},
   "source": [
    "## Setup"
   ]
  },
  {
   "cell_type": "code",
   "execution_count": 1,
   "id": "20ce6700-8a33-424f-aefe-8852fd1e6d07",
   "metadata": {
    "height": 30
   },
   "outputs": [],
   "source": [
    "from utils import get_openai_api_key\n",
    "OPENAI_API_KEY = get_openai_api_key()\n",
    "llm_config = {\"model\": \"gpt-4o\", \"api_key\":OPENAI_API_KEY, \"temperature\":1.0,\"cache_seed\": None}\n",
    "\n",
    "from autogen import ConversableAgent"
   ]
  },
  {
   "cell_type": "markdown",
   "id": "6a75c3c3",
   "metadata": {},
   "source": [
    "## Use case\n",
    "Let's dive into a possible real scenario. We are going to set up a system in which virtual agents help new patients register and receive initial health advice based on the information they collect from the user."
   ]
  },
  {
   "cell_type": "markdown",
   "id": "76f979f9",
   "metadata": {},
   "source": [
    "### Agents creation\n",
    "Let's create our agents, specializing them in specific tasks.\n",
    "\n",
    "The first agent is the 'personal information' agent, responsible for collecting basic user information."
   ]
  },
  {
   "cell_type": "code",
   "execution_count": 2,
   "id": "a527bb1e-dd4e-47b0-a1b7-a9cbcd87cbdb",
   "metadata": {
    "height": 217
   },
   "outputs": [],
   "source": [
    "# Agent specialized in gathering patient personal information to onboard them into the health service\n",
    "personal_information_agent = ConversableAgent(\n",
    "    name=\"Personal_Information_Agent\",\n",
    "    system_message='''\n",
    "    You are an agent specializing in onboarding new patients.\n",
    "    Your role is to guide them in getting started with our health service.\n",
    "    Your only responsibility is to collect the patient's name and place of residence. \n",
    "    Do not request any additional data. \n",
    "    ''',\n",
    "    llm_config=llm_config,\n",
    "    code_execution_config=False,\n",
    "    human_input_mode=\"NEVER\", # <-- agent acts autonomously\n",
    ")"
   ]
  },
  {
   "cell_type": "markdown",
   "id": "c445ac21",
   "metadata": {},
   "source": [
    "The second agent is the 'symptoms-registering' agent, responsible for recording the patient's initial symptoms of the illness."
   ]
  },
  {
   "cell_type": "code",
   "execution_count": 3,
   "id": "51bc9a24-a680-444d-943b-b740bce0189d",
   "metadata": {
    "height": 217
   },
   "outputs": [],
   "source": [
    "# Agent specialized in gathering patient's initial symptoms\n",
    "health_information_agent = ConversableAgent(\n",
    "    name=\"Health_Information_Agent\",\n",
    "    system_message='''\n",
    "    You are an agent specializing in onboarding new patients.\n",
    "    Your role is to guide them in getting started with our health service.\n",
    "    Your only responsibility is to gather information about the patient's current symptoms.\n",
    "    Do not request additional data.\n",
    "    Once you have completed the collection, respond with 'INFORMATION COLLECTED'\n",
    "    ''',\n",
    "    llm_config=llm_config,\n",
    "    code_execution_config=False,\n",
    "    human_input_mode=\"NEVER\", # <-- agent acts autonomously\n",
    ")"
   ]
  },
  {
   "cell_type": "markdown",
   "id": "1935c997",
   "metadata": {},
   "source": [
    "The third agent is the 'health advice' agent, responsible for providing initial recommendations based on the patient's symptoms"
   ]
  },
  {
   "cell_type": "code",
   "execution_count": null,
   "id": "6755a7fc-cb17-4d62-a03f-48e260f39010",
   "metadata": {
    "height": 251
   },
   "outputs": [],
   "source": [
    "# Agent specialized in providing initial advice based on patient's personal information.\n",
    "health_advice_agent = ConversableAgent(\n",
    "    name=\"Health_Advice_Agent\",\n",
    "    system_message='''\n",
    "    You are a health care agent dedicated to providing initial advice based on patient's personal information \n",
    "    and the their early symptoms of illness.\n",
    "    You offer general suggestions and always remember to consult a physician. \n",
    "    Your goal is to be formal, clear and reassuring.\n",
    "    Once you have provided your initial assistance, respond with 'CONSULTATION TERMINATED'.\n",
    "    ''',\n",
    "    llm_config=llm_config,\n",
    "    code_execution_config=False,\n",
    "    human_input_mode=\"NEVER\", # <-- agent acts autonomously\n",
    "    is_termination_msg=lambda msg: \"consultation terminated\" in msg.get(\"content\").lower(),\n",
    ")"
   ]
  },
  {
   "cell_type": "markdown",
   "id": "a75c267d",
   "metadata": {},
   "source": [
    "Finally we define a special agent that acts on behalf of the patient"
   ]
  },
  {
   "cell_type": "code",
   "execution_count": 5,
   "id": "64267c0b-f7f2-46e6-ab44-6f7b5fbd9db7",
   "metadata": {
    "height": 149
   },
   "outputs": [],
   "source": [
    "patient_proxy_agent = ConversableAgent(\n",
    "    name=\"patient_proxy_agent\",\n",
    "    llm_config=False, # NO LLM\n",
    "    code_execution_config=False,\n",
    "    human_input_mode=\"ALWAYS\", # <-- agent always ask for human intervention\n",
    "    is_termination_msg=lambda msg: \"information collected\" in msg.get(\"content\").lower() or \"consultation terminated\" in msg.get(\"content\").lower(),\n",
    ")"
   ]
  },
  {
   "cell_type": "markdown",
   "id": "4f240408",
   "metadata": {},
   "source": [
    "## Creating tasks\n",
    "\n",
    "Now, we can set a series of chats among the agents to facilitate the onboarding process."
   ]
  },
  {
   "cell_type": "code",
   "execution_count": 6,
   "id": "459c7f8f",
   "metadata": {},
   "outputs": [],
   "source": [
    "chats = [\n",
    "    {\n",
    "        \"sender\": personal_information_agent,\n",
    "        \"recipient\": patient_proxy_agent,\n",
    "        \"message\": \"Hello, I'm here to help you with initial care with our health service. Could you please tell me your name and your residential city?\",\n",
    "        \"summary_method\": \"reflection_with_llm\",\n",
    "        \"summary_args\": {\n",
    "            \"summary_prompt\": \"Return the patient's personal information in a single JSON object: {'name': '', 'city': ''}\", # <-- different way to summarize content\n",
    "        },\n",
    "        \"max_turns\": 2,\n",
    "        \"clear_history\": True\n",
    "    },\n",
    "    {\n",
    "        \"sender\": health_information_agent,\n",
    "        \"recipient\": patient_proxy_agent,\n",
    "        \"message\": \"Great! Could you tell me your symptoms?\",\n",
    "        \"summary_method\": \"reflection_with_llm\",\n",
    "        \"max_turns\": 1,\n",
    "        \"clear_history\": True\n",
    "    },\n",
    "    {\n",
    "        \"sender\": patient_proxy_agent,\n",
    "        \"recipient\": health_advice_agent,\n",
    "        \"message\": \"What initial treatments can help me recover as soon as possible?\",\n",
    "        \"max_turns\": 1,\n",
    "        \"clear_history\":True,\n",
    "        \"summary_method\": \"reflection_with_llm\",\n",
    "    },\n",
    "]"
   ]
  },
  {
   "cell_type": "markdown",
   "id": "862a066b",
   "metadata": {},
   "source": [
    "## Start the onboarding process"
   ]
  },
  {
   "cell_type": "code",
   "execution_count": 7,
   "id": "9d6d1d4a-0b50-41a5-a1f0-3ff208398bc6",
   "metadata": {
    "height": 64
   },
   "outputs": [
    {
     "name": "stdout",
     "output_type": "stream",
     "text": [
      "\u001b[34m\n",
      "********************************************************************************\u001b[0m\n",
      "\u001b[34mStarting a new chat....\u001b[0m\n",
      "\u001b[34m\n",
      "********************************************************************************\u001b[0m\n",
      "\u001b[33mPersonal_Information_Agent\u001b[0m (to patient_proxy_agent):\n",
      "\n",
      "Hello, I'm here to help you with initial care with our health service. Could you please tell me your name and your residential city?\n",
      "\n",
      "--------------------------------------------------------------------------------\n"
     ]
    },
    {
     "name": "stderr",
     "output_type": "stream",
     "text": [
      "c:\\Users\\ASUS\\Anaconda3\\envs\\pydata_autogen\\Lib\\site-packages\\autogen\\agentchat\\chat.py:57: UserWarning: Repetitive recipients detected: The chat history will be cleared by default if a recipient appears more than once. To retain the chat history, please set 'clear_history=False' in the configuration of the repeating agent.\n",
      "  warnings.warn(\n"
     ]
    },
    {
     "name": "stdout",
     "output_type": "stream",
     "text": [
      "\u001b[33mpatient_proxy_agent\u001b[0m (to Personal_Information_Agent):\n",
      "\n",
      "daniele\n",
      "\n",
      "--------------------------------------------------------------------------------\n",
      "\u001b[33mPersonal_Information_Agent\u001b[0m (to patient_proxy_agent):\n",
      "\n",
      "Thank you, Daniele! Could you also let me know the city you reside in?\n",
      "\n",
      "--------------------------------------------------------------------------------\n",
      "\u001b[33mpatient_proxy_agent\u001b[0m (to Personal_Information_Agent):\n",
      "\n",
      "i reside in rome\n",
      "\n",
      "--------------------------------------------------------------------------------\n",
      "\u001b[34m\n",
      "********************************************************************************\u001b[0m\n",
      "\u001b[34mStarting a new chat....\u001b[0m\n",
      "\u001b[34m\n",
      "********************************************************************************\u001b[0m\n",
      "\u001b[33mHealth_Information_Agent\u001b[0m (to patient_proxy_agent):\n",
      "\n",
      "Great! Could you tell me your symptoms?\n",
      "Context: \n",
      "{'name': 'Daniele', 'city': 'Rome'}\n",
      "\n",
      "--------------------------------------------------------------------------------\n",
      "\u001b[33mpatient_proxy_agent\u001b[0m (to Health_Information_Agent):\n",
      "\n",
      "my knee is hurting\n",
      "\n",
      "--------------------------------------------------------------------------------\n",
      "\u001b[34m\n",
      "********************************************************************************\u001b[0m\n",
      "\u001b[34mStarting a new chat....\u001b[0m\n",
      "\u001b[34m\n",
      "********************************************************************************\u001b[0m\n",
      "\u001b[33mpatient_proxy_agent\u001b[0m (to Health_Advice_Agent):\n",
      "\n",
      "What initial treatments can help me recover as soon as possible?\n",
      "Context: \n",
      "{'name': 'Daniele', 'city': 'Rome'}\n",
      "Daniele from Rome has a knee that is hurting.\n",
      "\n",
      "--------------------------------------------------------------------------------\n",
      "\u001b[33mHealth_Advice_Agent\u001b[0m (to patient_proxy_agent):\n",
      "\n",
      "Hello Daniele,\n",
      "\n",
      "Thank you for reaching out regarding your knee discomfort. It's important to start with some home remedies that may help alleviate your knee pain:\n",
      "\n",
      "1. **Rest and Protect:** Minimize activities that put strain on your knee, and try to avoid movements that cause pain.\n",
      "\n",
      "2. **Ice Therapy:** Apply ice packs on your knee for 15-20 minutes every few hours to reduce swelling and numb the area.\n",
      "\n",
      "3. **Compression:** Use a compression bandage to support your knee and reduce swelling. Ensure it's snug but not too tight to prevent hindered circulation.\n",
      "\n",
      "4. **Elevation:** Keeping your knee elevated on pillows when sitting or lying down can help reduce swelling.\n",
      "\n",
      "5. **Over-the-Counter Pain Relief:** Non-steroidal anti-inflammatory drugs (NSAIDs) like ibuprofen can help to reduce pain and inflammation.\n",
      "\n",
      "6. **Gentle Stretching and Exercises:** Once the initial pain subsides, gentle stretching and strengthening exercises may aid recovery and prevent future injury.\n",
      "\n",
      "These suggestions are general, and it is crucial to consult a physician for advice tailored specifically to your condition, as they can assess whether more specialized treatment is required.\n",
      "\n",
      "Please take care and don't hesitate to seek medical attention if your symptoms persist or worsen.\n",
      "\n",
      "CONSULTATION TERMINATED.\n",
      "\n",
      "--------------------------------------------------------------------------------\n"
     ]
    }
   ],
   "source": [
    "from autogen import initiate_chats\n",
    "\n",
    "chat_results = initiate_chats(chats)"
   ]
  },
  {
   "cell_type": "markdown",
   "id": "4f9e2713",
   "metadata": {},
   "source": [
    "## Print out the summary"
   ]
  },
  {
   "cell_type": "code",
   "execution_count": 8,
   "id": "1e122f8a-1ceb-4635-9672-662114b0552a",
   "metadata": {
    "height": 64
   },
   "outputs": [
    {
     "name": "stdout",
     "output_type": "stream",
     "text": [
      "{'name': 'Daniele', 'city': 'Rome'}\n",
      "\n",
      "\n",
      "Daniele from Rome has a knee that is hurting.\n",
      "\n",
      "\n",
      "Daniele from Rome is advised to rest the knee, apply ice, use a compression bandage, elevate the knee, take over-the-counter pain relief, and perform gentle stretching and exercises. It is recommended to consult a physician for tailored advice and further assessment if needed.\n",
      "\n",
      "\n"
     ]
    }
   ],
   "source": [
    "for chat_result in chat_results:\n",
    "    print(chat_result.summary)\n",
    "    print(\"\\n\")"
   ]
  },
  {
   "cell_type": "markdown",
   "id": "a674c4eb",
   "metadata": {},
   "source": [
    "## Print out the cost"
   ]
  },
  {
   "cell_type": "code",
   "execution_count": 9,
   "id": "8b82a10a-afe5-4ba3-97b4-41c8c14b739f",
   "metadata": {
    "height": 64
   },
   "outputs": [
    {
     "name": "stdout",
     "output_type": "stream",
     "text": [
      "{'usage_including_cached_inference': {'total_cost': 0.000885, 'gpt-4o-2024-08-06': {'cost': 0.000885, 'prompt_tokens': 222, 'completion_tokens': 33, 'total_tokens': 255}}, 'usage_excluding_cached_inference': {'total_cost': 0.000885, 'gpt-4o-2024-08-06': {'cost': 0.000885, 'prompt_tokens': 222, 'completion_tokens': 33, 'total_tokens': 255}}}\n",
      "\n",
      "\n",
      "{'usage_including_cached_inference': {'total_cost': 0.000295, 'gpt-4o-2024-08-06': {'cost': 0.000295, 'prompt_tokens': 70, 'completion_tokens': 12, 'total_tokens': 82}}, 'usage_excluding_cached_inference': {'total_cost': 0.000295, 'gpt-4o-2024-08-06': {'cost': 0.000295, 'prompt_tokens': 70, 'completion_tokens': 12, 'total_tokens': 82}}}\n",
      "\n",
      "\n",
      "{'usage_including_cached_inference': {'total_cost': 0.0042525, 'gpt-4o-2024-08-06': {'cost': 0.0042525, 'prompt_tokens': 461, 'completion_tokens': 310, 'total_tokens': 771}}, 'usage_excluding_cached_inference': {'total_cost': 0.0042525, 'gpt-4o-2024-08-06': {'cost': 0.0042525, 'prompt_tokens': 461, 'completion_tokens': 310, 'total_tokens': 771}}}\n",
      "\n",
      "\n"
     ]
    }
   ],
   "source": [
    "for chat_result in chat_results:\n",
    "    print(chat_result.cost)\n",
    "    print(\"\\n\")"
   ]
  }
 ],
 "metadata": {
  "kernelspec": {
   "display_name": "pydata_autogen",
   "language": "python",
   "name": "python3"
  },
  "language_info": {
   "codemirror_mode": {
    "name": "ipython",
    "version": 3
   },
   "file_extension": ".py",
   "mimetype": "text/x-python",
   "name": "python",
   "nbconvert_exporter": "python",
   "pygments_lexer": "ipython3",
   "version": "3.12.0"
  }
 },
 "nbformat": 4,
 "nbformat_minor": 5
}
